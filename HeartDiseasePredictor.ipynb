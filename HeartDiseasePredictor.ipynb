{
 "cells": [
  {
   "cell_type": "markdown",
   "id": "9b4d48a5",
   "metadata": {},
   "source": [
    "# Heart Disease Predictor"
   ]
  },
  {
   "cell_type": "markdown",
   "id": "69221b66",
   "metadata": {},
   "source": [
    "* The Heart Disease Predictor Predicts The Possibilty Of The Heart Disease For A Person Based On Their Vitals Entered, The Model Makes It's Prediction Based On Heart Disease Dataset On Which It Is Trained"
   ]
  },
  {
   "cell_type": "code",
   "execution_count": 19,
   "id": "2ca90dcc",
   "metadata": {},
   "outputs": [],
   "source": [
    "import pandas as pd\n",
    "from sklearn.tree import DecisionTreeClassifier\n",
    "\n",
    "df=pd.read_csv(\"heart.csv\")"
   ]
  },
  {
   "cell_type": "markdown",
   "id": "e532c3ef",
   "metadata": {},
   "source": [
    "* Understanding The Dataset"
   ]
  },
  {
   "cell_type": "code",
   "execution_count": 3,
   "id": "fd8a5445",
   "metadata": {},
   "outputs": [
    {
     "name": "stdout",
     "output_type": "stream",
     "text": [
      "<class 'pandas.core.frame.DataFrame'>\n",
      "RangeIndex: 918 entries, 0 to 917\n",
      "Data columns (total 12 columns):\n",
      " #   Column          Non-Null Count  Dtype  \n",
      "---  ------          --------------  -----  \n",
      " 0   Age             918 non-null    int64  \n",
      " 1   Sex             918 non-null    object \n",
      " 2   ChestPainType   918 non-null    object \n",
      " 3   RestingBP       918 non-null    int64  \n",
      " 4   Cholesterol     918 non-null    int64  \n",
      " 5   FastingBS       918 non-null    int64  \n",
      " 6   RestingECG      918 non-null    object \n",
      " 7   MaxHR           918 non-null    int64  \n",
      " 8   ExerciseAngina  918 non-null    object \n",
      " 9   Oldpeak         918 non-null    float64\n",
      " 10  ST_Slope        918 non-null    object \n",
      " 11  HeartDisease    918 non-null    int64  \n",
      "dtypes: float64(1), int64(6), object(5)\n",
      "memory usage: 86.2+ KB\n"
     ]
    },
    {
     "data": {
      "text/html": [
       "<div>\n",
       "<style scoped>\n",
       "    .dataframe tbody tr th:only-of-type {\n",
       "        vertical-align: middle;\n",
       "    }\n",
       "\n",
       "    .dataframe tbody tr th {\n",
       "        vertical-align: top;\n",
       "    }\n",
       "\n",
       "    .dataframe thead th {\n",
       "        text-align: right;\n",
       "    }\n",
       "</style>\n",
       "<table border=\"1\" class=\"dataframe\">\n",
       "  <thead>\n",
       "    <tr style=\"text-align: right;\">\n",
       "      <th></th>\n",
       "      <th>Age</th>\n",
       "      <th>RestingBP</th>\n",
       "      <th>Cholesterol</th>\n",
       "      <th>FastingBS</th>\n",
       "      <th>MaxHR</th>\n",
       "      <th>Oldpeak</th>\n",
       "      <th>HeartDisease</th>\n",
       "    </tr>\n",
       "  </thead>\n",
       "  <tbody>\n",
       "    <tr>\n",
       "      <th>count</th>\n",
       "      <td>918.000000</td>\n",
       "      <td>918.000000</td>\n",
       "      <td>918.000000</td>\n",
       "      <td>918.000000</td>\n",
       "      <td>918.000000</td>\n",
       "      <td>918.000000</td>\n",
       "      <td>918.000000</td>\n",
       "    </tr>\n",
       "    <tr>\n",
       "      <th>mean</th>\n",
       "      <td>53.510893</td>\n",
       "      <td>132.396514</td>\n",
       "      <td>198.799564</td>\n",
       "      <td>0.233115</td>\n",
       "      <td>136.809368</td>\n",
       "      <td>0.887364</td>\n",
       "      <td>0.553377</td>\n",
       "    </tr>\n",
       "    <tr>\n",
       "      <th>std</th>\n",
       "      <td>9.432617</td>\n",
       "      <td>18.514154</td>\n",
       "      <td>109.384145</td>\n",
       "      <td>0.423046</td>\n",
       "      <td>25.460334</td>\n",
       "      <td>1.066570</td>\n",
       "      <td>0.497414</td>\n",
       "    </tr>\n",
       "    <tr>\n",
       "      <th>min</th>\n",
       "      <td>28.000000</td>\n",
       "      <td>0.000000</td>\n",
       "      <td>0.000000</td>\n",
       "      <td>0.000000</td>\n",
       "      <td>60.000000</td>\n",
       "      <td>-2.600000</td>\n",
       "      <td>0.000000</td>\n",
       "    </tr>\n",
       "    <tr>\n",
       "      <th>25%</th>\n",
       "      <td>47.000000</td>\n",
       "      <td>120.000000</td>\n",
       "      <td>173.250000</td>\n",
       "      <td>0.000000</td>\n",
       "      <td>120.000000</td>\n",
       "      <td>0.000000</td>\n",
       "      <td>0.000000</td>\n",
       "    </tr>\n",
       "    <tr>\n",
       "      <th>50%</th>\n",
       "      <td>54.000000</td>\n",
       "      <td>130.000000</td>\n",
       "      <td>223.000000</td>\n",
       "      <td>0.000000</td>\n",
       "      <td>138.000000</td>\n",
       "      <td>0.600000</td>\n",
       "      <td>1.000000</td>\n",
       "    </tr>\n",
       "    <tr>\n",
       "      <th>75%</th>\n",
       "      <td>60.000000</td>\n",
       "      <td>140.000000</td>\n",
       "      <td>267.000000</td>\n",
       "      <td>0.000000</td>\n",
       "      <td>156.000000</td>\n",
       "      <td>1.500000</td>\n",
       "      <td>1.000000</td>\n",
       "    </tr>\n",
       "    <tr>\n",
       "      <th>max</th>\n",
       "      <td>77.000000</td>\n",
       "      <td>200.000000</td>\n",
       "      <td>603.000000</td>\n",
       "      <td>1.000000</td>\n",
       "      <td>202.000000</td>\n",
       "      <td>6.200000</td>\n",
       "      <td>1.000000</td>\n",
       "    </tr>\n",
       "  </tbody>\n",
       "</table>\n",
       "</div>"
      ],
      "text/plain": [
       "              Age   RestingBP  ...     Oldpeak  HeartDisease\n",
       "count  918.000000  918.000000  ...  918.000000    918.000000\n",
       "mean    53.510893  132.396514  ...    0.887364      0.553377\n",
       "std      9.432617   18.514154  ...    1.066570      0.497414\n",
       "min     28.000000    0.000000  ...   -2.600000      0.000000\n",
       "25%     47.000000  120.000000  ...    0.000000      0.000000\n",
       "50%     54.000000  130.000000  ...    0.600000      1.000000\n",
       "75%     60.000000  140.000000  ...    1.500000      1.000000\n",
       "max     77.000000  200.000000  ...    6.200000      1.000000\n",
       "\n",
       "[8 rows x 7 columns]"
      ]
     },
     "execution_count": 3,
     "metadata": {},
     "output_type": "execute_result"
    }
   ],
   "source": [
    "df.info()\n",
    "df.describe()"
   ]
  },
  {
   "cell_type": "markdown",
   "id": "0b3301a6",
   "metadata": {},
   "source": [
    "* Knowing How Many Different Values Does Each Categorical Column Have"
   ]
  },
  {
   "cell_type": "code",
   "execution_count": 5,
   "id": "8f5bd5f1",
   "metadata": {},
   "outputs": [
    {
     "name": "stdout",
     "output_type": "stream",
     "text": [
      "['M' 'F']\n",
      "['ATA' 'NAP' 'ASY' 'TA']\n",
      "['Normal' 'ST' 'LVH']\n",
      "['N' 'Y']\n",
      "['Up' 'Flat' 'Down']\n"
     ]
    }
   ],
   "source": [
    "print(df[\"Sex\"].unique())\n",
    "print(df[\"ChestPainType\"].unique())\n",
    "print(df[\"RestingECG\"].unique())\n",
    "print(df[\"ExerciseAngina\"].unique())\n",
    "print(df[\"ST_Slope\"].unique())"
   ]
  },
  {
   "cell_type": "markdown",
   "id": "c4474f1d",
   "metadata": {},
   "source": [
    "* Dropping Null Rows If Any"
   ]
  },
  {
   "cell_type": "code",
   "execution_count": 20,
   "id": "a021c33f",
   "metadata": {},
   "outputs": [],
   "source": [
    "df=df[[\"Age\",\"Sex\",\"ChestPainType\",\"RestingBP\",\"Cholesterol\",\"FastingBS\",\"RestingECG\",\"MaxHR\",\"ExerciseAngina\",\"Oldpeak\",\"ST_Slope\",\"HeartDisease\"]].dropna()"
   ]
  },
  {
   "cell_type": "markdown",
   "id": "1006722e",
   "metadata": {},
   "source": [
    "* Encoding The Categorical Values:"
   ]
  },
  {
   "cell_type": "code",
   "execution_count": 23,
   "id": "fce8ea6e",
   "metadata": {},
   "outputs": [],
   "source": [
    "df[\"Sex\"]=df[\"Sex\"].map({\"M\":0,\"F\":1})\n",
    "df[\"ChestPainType\"]=df[\"ChestPainType\"].map({\"ATA\":0,\"NAP\":1,\"ASY\":2,\"TA\":3})\n",
    "df[\"RestingECG\"]=df[\"RestingECG\"].map({\"Normal\":0,\"ST\":1,\"LVH\":2})\n",
    "df[\"ExerciseAngina\"]=df[\"ExerciseAngina\"].map({\"N\":0,\"Y\":1})\n",
    "df[\"ST_Slope\"]=df[\"ST_Slope\"].map({\"Up\":0,\"Flat\":1,\"Down\":2})"
   ]
  },
  {
   "cell_type": "markdown",
   "id": "b1fd3d6c",
   "metadata": {},
   "source": [
    "* Dividing Dataset Into Data And Its Result"
   ]
  },
  {
   "cell_type": "code",
   "execution_count": 25,
   "id": "ac56a49a",
   "metadata": {},
   "outputs": [],
   "source": [
    "#Data\n",
    "x=df[[\"Age\",\"Sex\",\"ChestPainType\",\"RestingBP\",\"Cholesterol\",\"FastingBS\",\"RestingECG\",\"MaxHR\",\"ExerciseAngina\",\"Oldpeak\",\"ST_Slope\"]]\n",
    "\n",
    "#Result\n",
    "y=df[\"HeartDisease\"]"
   ]
  },
  {
   "cell_type": "code",
   "execution_count": 27,
   "id": "4ab37616",
   "metadata": {},
   "outputs": [
    {
     "name": "stdout",
     "output_type": "stream",
     "text": [
      ".....Heart Disease Predictor.....\n",
      "You Don't Have Any Heart Disease.\n"
     ]
    },
    {
     "name": "stderr",
     "output_type": "stream",
     "text": [
      "C:\\Users\\DELL\\AppData\\Local\\Packages\\PythonSoftwareFoundation.Python.3.12_qbz5n2kfra8p0\\LocalCache\\local-packages\\Python312\\site-packages\\sklearn\\utils\\validation.py:2749: UserWarning: X does not have valid feature names, but DecisionTreeClassifier was fitted with feature names\n",
      "  warnings.warn(\n"
     ]
    }
   ],
   "source": [
    "model=DecisionTreeClassifier()\n",
    "model.fit(x,y)\n",
    "\n",
    "print(\".....Heart Disease Predictor.....\")\n",
    "age=int(input(\"Enter Your Age: \"))\n",
    "sex=input(\"Enter Your Sex: \")\n",
    "CPT=input(\"Describe Your Chest Pain Type ATA/NAP/ASY/TA: \")\n",
    "RBP=int(input(\"Enter Your Resting Blood Pressure: \"))\n",
    "CHL=int(input(\"Enter Your Cholestrol Level: \"))\n",
    "FBS=int(input(\"Enter Your Fasting Blood Sugar: \"))\n",
    "RECG=input(\"Enter Your Resting ECG Normal/ST/LVH: \")\n",
    "MHR=int(input(\"Enter Your Maximum Heart Rate: \"))\n",
    "EA=input(\"Does Your Chest Pains While Exercising Yes/No: \")\n",
    "OP=float(input(\"Enter Your Old Peak: \"))\n",
    "SS=input(\"Enter Your ST Slope Up/Flat/Down: \")\n",
    "\n",
    "# Encoding Categorical Values\n",
    "sex=0 if sex==\"male\" else 1\n",
    "\n",
    "if CPT==\"ATA\":\n",
    "    CPT=0\n",
    "elif CPT==\"NAP\":\n",
    "    CPT=1\n",
    "elif CPT==\"ASY\":\n",
    "    CPT=2\n",
    "else:\n",
    "    CPT=3\n",
    "\n",
    "if RECG==\"Normal\":\n",
    "    RECG=0\n",
    "elif RECG==\"ST\":\n",
    "    RECG=1\n",
    "else:\n",
    "    RECG=2\n",
    "\n",
    "if EA==\"Yes\":\n",
    "    EA=1\n",
    "else:\n",
    "    EA=0\n",
    "\n",
    "if SS==\"Up\":\n",
    "    SS=0\n",
    "elif SS==\"Flat\":\n",
    "    SS=1\n",
    "else:\n",
    "    SS=2\n",
    "\n",
    "UserData=pd.DataFrame([[age,sex,CPT,RBP,CHL,FBS,RECG,MHR,EA,OP,SS]],columns=[[\"Age\",\"Sex\",\"ChestPainType\",\"RestingBP\",\"Cholesterol\",\"FastingBS\",\"RestingECG\",\"MaxHR\",\"ExerciseAngina\",\"Oldpeak\",\"ST_Slope\"]])\n",
    "\n",
    "prediction=model.predict(UserData)\n",
    "\n",
    "if prediction==0:\n",
    "    print(\"You Don't Have Any Heart Disease.\")\n",
    "else:\n",
    "    print(\"You Have A Heart Disease!!\")\n"
   ]
  },
  {
   "cell_type": "code",
   "execution_count": null,
   "id": "791438b2",
   "metadata": {},
   "outputs": [],
   "source": []
  }
 ],
 "metadata": {
  "kernelspec": {
   "display_name": "Python 3",
   "language": "python",
   "name": "python3"
  },
  "language_info": {
   "codemirror_mode": {
    "name": "ipython",
    "version": 3
   },
   "file_extension": ".py",
   "mimetype": "text/x-python",
   "name": "python",
   "nbconvert_exporter": "python",
   "pygments_lexer": "ipython3",
   "version": "3.12.10"
  }
 },
 "nbformat": 4,
 "nbformat_minor": 5
}
